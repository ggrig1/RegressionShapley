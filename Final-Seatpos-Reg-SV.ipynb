{
 "cells": [
  {
   "cell_type": "code",
   "execution_count": 4,
   "metadata": {},
   "outputs": [
    {
     "name": "stdout",
     "output_type": "stream",
     "text": [
      "\n",
      "Iterating over rows using iloc function :\n",
      "\n"
     ]
    }
   ],
   "source": [
    "import pandas as pd \n",
    "from sklearn import linear_model\n",
    "import statsmodels.api as sm\n",
    "#from itertools import permutations \n",
    "#from itertools import combinations \n",
    "from itertools import combinations_with_replacement\n",
    "\n",
    "print(\"\\nIterating over rows using iloc function :\\n\") \n",
    "data = pd.read_csv(\"seatposR.csv\") \n",
    "df1 = pd.DataFrame(data,columns=['Age','Weight','HtShoes','Ht','Seated','Arm','Thigh','Leg','hipcenter'])\n",
    "df = pd.DataFrame(data,columns=['Age','Weight','HtShoes','Ht','Seated','Arm','Thigh','Leg'])\n",
    "#print(df)\n",
    "r_squared_res=[]\n",
    "perm_res=[]\n",
    "for i in range(1,9):\n",
    "    combi = combinations(df, r = i)\n",
    "    for c in list(combi):\n",
    "        X = pd.DataFrame(data, columns = c)\n",
    "        Y = df1['hipcenter']\n",
    "        X = sm.add_constant(X) # adding a constant\n",
    "        model = sm.OLS(Y, X).fit()\n",
    "        predictions = model.predict(X) \n",
    "        print_model = model.summary()\n",
    "#        print(print_model)\n",
    "        r_squared_res.append(model.rsquared)\n",
    "        perm_res.append(c)\n",
    "\n",
    "d = {'Feature_name':perm_res,'r_squared':r_squared_res}\n",
    "dataframe=pd.DataFrame(d)\n",
    "dataframe.to_csv(\"r_squared_results5.csv\",index=False)\n",
    "#print(dataframe) \n",
    "\n"
   ]
  },
  {
   "cell_type": "code",
   "execution_count": 5,
   "metadata": {},
   "outputs": [],
   "source": [
    "from itertools import combinations\n",
    "import math\n",
    "import bisect\n",
    "import sys\n",
    "\n",
    "def power_set(List):\n",
    "    PS = [list(j) for i in range(len(List)) for j in combinations(List, i+1)]\n",
    "    return PS\n",
    "\n",
    "def main(n, characteristic_function):\n",
    "    if n == 0:\n",
    "        print(\"No features, exit\")\n",
    "        sys.exit(0)\n",
    "\n",
    "    tempList = list([i for i in range(n)])\n",
    "    N = power_set(tempList)\n",
    "\n",
    "    shapley_values = []\n",
    "    for i in range(n):\n",
    "        shapley = 0\n",
    "        for j in N:\n",
    "            if i not in j:\n",
    "                cmod = len(j)\n",
    "                Cui = j[:]\n",
    "                bisect.insort_left(Cui,i)\n",
    "                l = N.index(j)\n",
    "                k = N.index(Cui)\n",
    "                temp = float(float(characteristic_function[k]) - float(characteristic_function[l])) *\\\n",
    "                           float(math.factorial(cmod) * math.factorial(n - cmod - 1)) / float(math.factorial(n))\n",
    "                shapley += temp\n",
    "        cmod = 0\n",
    "        Cui = [i]\n",
    "        k = N.index(Cui)\n",
    "        temp = float(characteristic_function[k]) * float(math.factorial(cmod) * math.factorial(n - cmod - 1)) / float(math.factorial(n))\n",
    "        shapley += temp\n",
    "\n",
    "        shapley_values.append(shapley)\n",
    "\n",
    "    print(shapley_values)\n"
   ]
  },
  {
   "cell_type": "code",
   "execution_count": 9,
   "metadata": {
    "scrolled": true
   },
   "outputs": [
    {
     "name": "stdout",
     "output_type": "stream",
     "text": [
      "[0.03205735583928572, 0.06616651201547616, 0.12279169218928572, 0.12412692604642855, 0.093057410525, 0.058731956225, 0.05721801210595238, 0.13240361105357137]\n"
     ]
    }
   ],
   "source": [
    "data = pd.read_csv(\"shapely/r_squared_results5.csv\") \n",
    "df1 = pd.DataFrame(data,columns=['r_squared'])\n",
    "n = 8\n",
    "\n",
    "characteristic_function= df1.values\n",
    "main(n, characteristic_function)"
   ]
  },
  {
   "cell_type": "code",
   "execution_count": null,
   "metadata": {},
   "outputs": [],
   "source": []
  }
 ],
 "metadata": {
  "kernelspec": {
   "display_name": "Python 3",
   "language": "python",
   "name": "python3"
  },
  "language_info": {
   "codemirror_mode": {
    "name": "ipython",
    "version": 3
   },
   "file_extension": ".py",
   "mimetype": "text/x-python",
   "name": "python",
   "nbconvert_exporter": "python",
   "pygments_lexer": "ipython3",
   "version": "3.6.5"
  }
 },
 "nbformat": 4,
 "nbformat_minor": 2
}
